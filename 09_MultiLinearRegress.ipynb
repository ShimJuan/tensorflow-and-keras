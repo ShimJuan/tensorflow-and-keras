{
 "cells": [
  {
   "cell_type": "code",
   "execution_count": 1,
   "metadata": {},
   "outputs": [],
   "source": [
    "import tensorflow as tf\n",
    "import numpy as np\n",
    "import matplotlib.pyplot as plt\n",
    "import pandas as pd"
   ]
  },
  {
   "cell_type": "code",
   "execution_count": 2,
   "metadata": {},
   "outputs": [],
   "source": [
    "x1 = tf.constant([1,0,3,0,5], tf.float32) # 공부한시간\n",
    "x2 = tf.constant([0,2,3,4,5], tf.float32) # 출석일수\n",
    "y = tf.constant([1,2,3,4,5], tf.float32) # 받은점수"
   ]
  },
  {
   "cell_type": "code",
   "execution_count": 3,
   "metadata": {},
   "outputs": [],
   "source": [
    "w1 = tf.Variable(tf.random_uniform([1]))\n",
    "w2 = tf.Variable(tf.random_uniform([1]))\n",
    "b = tf.Variable(tf.random_uniform([1]))"
   ]
  },
  {
   "cell_type": "code",
   "execution_count": 4,
   "metadata": {},
   "outputs": [],
   "source": [
    "hx = w1*x1 + w2*x2 + b\n",
    "cost = tf.reduce_mean(tf.square(hx-y))"
   ]
  },
  {
   "cell_type": "code",
   "execution_count": 5,
   "metadata": {},
   "outputs": [],
   "source": [
    "optimizer = tf.train.GradientDescentOptimizer(0.1) #learning rate\n",
    "train = optimizer.minimize(cost)"
   ]
  },
  {
   "cell_type": "code",
   "execution_count": 6,
   "metadata": {},
   "outputs": [],
   "source": [
    "sess = tf.Session()\n",
    "init = tf.global_variables_initializer()\n",
    "sess.run(init)"
   ]
  },
  {
   "cell_type": "code",
   "execution_count": 13,
   "metadata": {},
   "outputs": [
    {
     "name": "stdout",
     "output_type": "stream",
     "text": [
      "0 0.40061846\n",
      "1 0.3982718\n",
      "2 0.39594242\n",
      "3 0.3936302\n",
      "4 0.39133507\n",
      "5 0.38905674\n",
      "6 0.38679525\n",
      "7 0.3845504\n",
      "8 0.38232192\n",
      "9 0.38010997\n",
      "10 0.37791434\n",
      "11 0.37573487\n",
      "12 0.37357125\n",
      "13 0.3714236\n",
      "14 0.3692917\n",
      "15 0.36717555\n",
      "16 0.3650749\n",
      "17 0.36298975\n",
      "18 0.36091977\n",
      "19 0.3588651\n",
      "20 0.35682547\n",
      "21 0.35480088\n",
      "22 0.3527911\n",
      "23 0.35079604\n",
      "24 0.34881562\n",
      "25 0.3468497\n",
      "26 0.34489837\n",
      "27 0.34296122\n",
      "28 0.34103826\n",
      "29 0.33912945\n",
      "30 0.33723462\n",
      "31 0.3353536\n",
      "32 0.3334864\n",
      "33 0.33163303\n",
      "34 0.329793\n",
      "35 0.32796654\n",
      "36 0.32615355\n",
      "37 0.32435375\n",
      "38 0.32256716\n",
      "39 0.3207937\n",
      "40 0.3190331\n",
      "41 0.3172854\n",
      "42 0.31555048\n",
      "43 0.31382838\n",
      "44 0.3121187\n",
      "45 0.31042153\n",
      "46 0.30873695\n",
      "47 0.3070645\n",
      "48 0.30540437\n",
      "49 0.30375633\n",
      "50 0.3021204\n",
      "51 0.3004964\n",
      "52 0.2988842\n",
      "53 0.29728377\n",
      "54 0.29569513\n",
      "55 0.29411793\n",
      "56 0.29255235\n",
      "57 0.29099813\n",
      "58 0.28945524\n",
      "59 0.28792372\n",
      "60 0.28640324\n",
      "61 0.28489393\n",
      "62 0.2833956\n",
      "63 0.2819082\n",
      "64 0.28043163\n",
      "65 0.2789658\n",
      "66 0.2775106\n",
      "67 0.27606612\n",
      "68 0.27463213\n",
      "69 0.27320856\n",
      "70 0.27179536\n",
      "71 0.27039236\n",
      "72 0.26899973\n",
      "73 0.2676171\n",
      "74 0.2662445\n",
      "75 0.26488194\n",
      "76 0.26352936\n",
      "77 0.26218656\n",
      "78 0.26085338\n",
      "79 0.25953004\n",
      "80 0.25821626\n",
      "81 0.25691205\n",
      "82 0.25561723\n",
      "83 0.2543319\n",
      "84 0.25305584\n",
      "85 0.25178903\n",
      "86 0.25053144\n",
      "87 0.24928299\n",
      "88 0.24804366\n",
      "89 0.24681318\n",
      "90 0.24559179\n",
      "91 0.24437909\n",
      "92 0.24317518\n",
      "93 0.24198012\n",
      "94 0.24079362\n",
      "95 0.23961571\n",
      "96 0.23844633\n",
      "97 0.23728545\n",
      "98 0.23613293\n",
      "99 0.23498876\n"
     ]
    }
   ],
   "source": [
    "# train학습\n",
    "for i in range(100):\n",
    "    sess.run(train)\n",
    "    print(i,sess.run(cost))"
   ]
  },
  {
   "cell_type": "code",
   "execution_count": 10,
   "metadata": {},
   "outputs": [
    {
     "data": {
      "text/plain": [
       "array([0.3895349], dtype=float32)"
      ]
     },
     "execution_count": 10,
     "metadata": {},
     "output_type": "execute_result"
    }
   ],
   "source": [
    "sess.run(w1)"
   ]
  },
  {
   "cell_type": "code",
   "execution_count": 11,
   "metadata": {},
   "outputs": [
    {
     "data": {
      "text/plain": [
       "array([0.6590111], dtype=float32)"
      ]
     },
     "execution_count": 11,
     "metadata": {},
     "output_type": "execute_result"
    }
   ],
   "source": [
    "sess.run(w2)"
   ]
  },
  {
   "cell_type": "code",
   "execution_count": 12,
   "metadata": {},
   "outputs": [
    {
     "data": {
      "text/plain": [
       "array([0.2231976], dtype=float32)"
      ]
     },
     "execution_count": 12,
     "metadata": {},
     "output_type": "execute_result"
    }
   ],
   "source": [
    "sess.run(b)"
   ]
  },
  {
   "cell_type": "code",
   "execution_count": null,
   "metadata": {},
   "outputs": [],
   "source": []
  }
 ],
 "metadata": {
  "kernelspec": {
   "display_name": "Python 3",
   "language": "python",
   "name": "python3"
  },
  "language_info": {
   "codemirror_mode": {
    "name": "ipython",
    "version": 3
   },
   "file_extension": ".py",
   "mimetype": "text/x-python",
   "name": "python",
   "nbconvert_exporter": "python",
   "pygments_lexer": "ipython3",
   "version": "3.7.6"
  }
 },
 "nbformat": 4,
 "nbformat_minor": 4
}
