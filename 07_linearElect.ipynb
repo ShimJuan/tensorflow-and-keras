{
 "cells": [
  {
   "cell_type": "code",
   "execution_count": 1,
   "metadata": {},
   "outputs": [],
   "source": [
    "import tensorflow as tf\n",
    "import numpy as np\n",
    "import matplotlib.pyplot as plt\n",
    "import pandas as pd"
   ]
  },
  {
   "cell_type": "code",
   "execution_count": 2,
   "metadata": {},
   "outputs": [
    {
     "data": {
      "text/html": [
       "<div>\n",
       "<style scoped>\n",
       "    .dataframe tbody tr th:only-of-type {\n",
       "        vertical-align: middle;\n",
       "    }\n",
       "\n",
       "    .dataframe tbody tr th {\n",
       "        vertical-align: top;\n",
       "    }\n",
       "\n",
       "    .dataframe thead th {\n",
       "        text-align: right;\n",
       "    }\n",
       "</style>\n",
       "<table border=\"1\" class=\"dataframe\">\n",
       "  <thead>\n",
       "    <tr style=\"text-align: right;\">\n",
       "      <th></th>\n",
       "      <th>Unnamed: 0</th>\n",
       "      <th>전기생산량</th>\n",
       "      <th>전기사용량</th>\n",
       "    </tr>\n",
       "  </thead>\n",
       "  <tbody>\n",
       "    <tr>\n",
       "      <th>0</th>\n",
       "      <td>0</td>\n",
       "      <td>3.52</td>\n",
       "      <td>2.48</td>\n",
       "    </tr>\n",
       "    <tr>\n",
       "      <th>1</th>\n",
       "      <td>1</td>\n",
       "      <td>2.58</td>\n",
       "      <td>2.27</td>\n",
       "    </tr>\n",
       "    <tr>\n",
       "      <th>2</th>\n",
       "      <td>2</td>\n",
       "      <td>3.31</td>\n",
       "      <td>2.47</td>\n",
       "    </tr>\n",
       "    <tr>\n",
       "      <th>3</th>\n",
       "      <td>3</td>\n",
       "      <td>4.07</td>\n",
       "      <td>2.77</td>\n",
       "    </tr>\n",
       "    <tr>\n",
       "      <th>4</th>\n",
       "      <td>4</td>\n",
       "      <td>4.62</td>\n",
       "      <td>2.98</td>\n",
       "    </tr>\n",
       "    <tr>\n",
       "      <th>5</th>\n",
       "      <td>5</td>\n",
       "      <td>3.98</td>\n",
       "      <td>3.05</td>\n",
       "    </tr>\n",
       "    <tr>\n",
       "      <th>6</th>\n",
       "      <td>6</td>\n",
       "      <td>4.29</td>\n",
       "      <td>3.18</td>\n",
       "    </tr>\n",
       "    <tr>\n",
       "      <th>7</th>\n",
       "      <td>7</td>\n",
       "      <td>4.83</td>\n",
       "      <td>3.46</td>\n",
       "    </tr>\n",
       "    <tr>\n",
       "      <th>8</th>\n",
       "      <td>8</td>\n",
       "      <td>3.71</td>\n",
       "      <td>3.03</td>\n",
       "    </tr>\n",
       "    <tr>\n",
       "      <th>9</th>\n",
       "      <td>9</td>\n",
       "      <td>4.61</td>\n",
       "      <td>3.25</td>\n",
       "    </tr>\n",
       "    <tr>\n",
       "      <th>10</th>\n",
       "      <td>10</td>\n",
       "      <td>3.90</td>\n",
       "      <td>2.67</td>\n",
       "    </tr>\n",
       "    <tr>\n",
       "      <th>11</th>\n",
       "      <td>11</td>\n",
       "      <td>3.20</td>\n",
       "      <td>2.53</td>\n",
       "    </tr>\n",
       "  </tbody>\n",
       "</table>\n",
       "</div>"
      ],
      "text/plain": [
       "    Unnamed: 0  전기생산량  전기사용량\n",
       "0            0   3.52   2.48\n",
       "1            1   2.58   2.27\n",
       "2            2   3.31   2.47\n",
       "3            3   4.07   2.77\n",
       "4            4   4.62   2.98\n",
       "5            5   3.98   3.05\n",
       "6            6   4.29   3.18\n",
       "7            7   4.83   3.46\n",
       "8            8   3.71   3.03\n",
       "9            9   4.61   3.25\n",
       "10          10   3.90   2.67\n",
       "11          11   3.20   2.53"
      ]
     },
     "execution_count": 2,
     "metadata": {},
     "output_type": "execute_result"
    }
   ],
   "source": [
    "df = pd.read_csv('electric.csv')\n",
    "# df = df.drop(['unnamed'])\n",
    "# df.columns = ['전기생산량', '전기사용량']\n",
    "df"
   ]
  },
  {
   "cell_type": "code",
   "execution_count": 19,
   "metadata": {},
   "outputs": [],
   "source": [
    "x = tf.placeholder( tf.float32)\n",
    "y = tf.constant( df['전기사용량'], tf.float32)"
   ]
  },
  {
   "cell_type": "code",
   "execution_count": 20,
   "metadata": {},
   "outputs": [],
   "source": [
    "w = tf.Variable(tf.random_uniform([1]))\n",
    "b = tf.Variable(tf.random_uniform([1]))"
   ]
  },
  {
   "cell_type": "code",
   "execution_count": 21,
   "metadata": {},
   "outputs": [],
   "source": [
    "hx = w*x + b\n",
    "cost = tf.reduce_mean(tf.square(hx-y))"
   ]
  },
  {
   "cell_type": "code",
   "execution_count": 22,
   "metadata": {},
   "outputs": [],
   "source": [
    "optimizer = tf.train.GradientDescentOptimizer(0.001) #learning rate\n",
    "train = optimizer.minimize(cost)"
   ]
  },
  {
   "cell_type": "code",
   "execution_count": 23,
   "metadata": {},
   "outputs": [],
   "source": [
    "sess = tf.Session()\n",
    "init = tf.global_variables_initializer()\n",
    "sess.run(init)"
   ]
  },
  {
   "cell_type": "code",
   "execution_count": 24,
   "metadata": {},
   "outputs": [],
   "source": [
    "# hist = []"
   ]
  },
  {
   "cell_type": "code",
   "execution_count": 25,
   "metadata": {},
   "outputs": [
    {
     "name": "stdout",
     "output_type": "stream",
     "text": [
      "0 0.40355146\n",
      "100 0.034163933\n",
      "200 0.033625845\n",
      "300 0.033542782\n",
      "400 0.033461068\n",
      "500 0.03338022\n",
      "600 0.03330006\n",
      "700 0.033220746\n",
      "800 0.033142168\n",
      "900 0.033064377\n",
      "1000 0.032987367\n",
      "1100 0.032911044\n",
      "1200 0.03283549\n",
      "1300 0.032760683\n",
      "1400 0.032686595\n",
      "1500 0.032613218\n",
      "1600 0.03254059\n",
      "1700 0.032468643\n",
      "1800 0.0323974\n",
      "1900 0.032326862\n",
      "2000 0.03225701\n",
      "2100 0.032187816\n",
      "2200 0.032119304\n",
      "2300 0.032051466\n",
      "2400 0.03198428\n",
      "2500 0.031917762\n",
      "2600 0.03185186\n",
      "2700 0.03178664\n",
      "2800 0.031722035\n",
      "2900 0.031658057\n",
      "3000 0.031594694\n",
      "3100 0.031531963\n",
      "3200 0.03146984\n",
      "3300 0.031408325\n",
      "3400 0.031347394\n",
      "3500 0.03128707\n",
      "3600 0.031227326\n",
      "3700 0.031168172\n",
      "3800 0.03110958\n",
      "3900 0.031051537\n",
      "4000 0.030994115\n",
      "4100 0.03093723\n",
      "4200 0.030880913\n",
      "4300 0.030825093\n",
      "4400 0.03076986\n",
      "4500 0.030715138\n",
      "4600 0.030660974\n",
      "4700 0.030607356\n",
      "4800 0.030554205\n",
      "4900 0.030501587\n",
      "5000 0.030449493\n",
      "5100 0.030397892\n",
      "5200 0.030346816\n",
      "5300 0.030296221\n",
      "5400 0.030246114\n",
      "5500 0.030196523\n",
      "5600 0.030147409\n",
      "5700 0.030098729\n",
      "5800 0.030050555\n",
      "5900 0.03000287\n",
      "6000 0.029955616\n",
      "6100 0.029908836\n",
      "6200 0.02986251\n",
      "6300 0.029816618\n",
      "6400 0.029771194\n",
      "6500 0.029726192\n",
      "6600 0.029681653\n",
      "6700 0.029637538\n",
      "6800 0.029593835\n",
      "6900 0.029550582\n",
      "7000 0.029507743\n",
      "7100 0.029465323\n",
      "7200 0.029423317\n",
      "7300 0.029381722\n",
      "7400 0.0293405\n",
      "7500 0.029299736\n",
      "7600 0.02925933\n",
      "7700 0.029219339\n",
      "7800 0.029179724\n",
      "7900 0.029140495\n",
      "8000 0.02910162\n",
      "8100 0.029063134\n",
      "8200 0.029025072\n",
      "8300 0.028987324\n",
      "8400 0.028949954\n",
      "8500 0.028912967\n",
      "8600 0.028876344\n",
      "8700 0.028840056\n",
      "8800 0.028804159\n",
      "8900 0.028768554\n",
      "9000 0.028733334\n",
      "9100 0.028698469\n",
      "9200 0.028663898\n",
      "9300 0.028629689\n",
      "9400 0.0285958\n",
      "9500 0.02856227\n",
      "9600 0.028529042\n",
      "9700 0.028496167\n",
      "9800 0.028463565\n",
      "9900 0.028431326\n"
     ]
    }
   ],
   "source": [
    "for i in range(10000):\n",
    "    sess.run(train,{x:df['전기생산량']})\n",
    "    if i%100==0:\n",
    "#         c = sess.run(cost,{x:df['전기생산량']})\n",
    "#         print(i,c)\n",
    "#         hist.append(c)\n",
    "        print(i, sess.run(cost,{x:df['전기생산량']}))"
   ]
  },
  {
   "cell_type": "code",
   "execution_count": 26,
   "metadata": {},
   "outputs": [
    {
     "data": {
      "text/plain": [
       "array([0.5844107], dtype=float32)"
      ]
     },
     "execution_count": 26,
     "metadata": {},
     "output_type": "execute_result"
    }
   ],
   "source": [
    "sess.run(w)"
   ]
  },
  {
   "cell_type": "code",
   "execution_count": 27,
   "metadata": {},
   "outputs": [
    {
     "data": {
      "text/plain": [
       "array([0.56591856], dtype=float32)"
      ]
     },
     "execution_count": 27,
     "metadata": {},
     "output_type": "execute_result"
    }
   ],
   "source": [
    "sess.run(b)"
   ]
  },
  {
   "cell_type": "code",
   "execution_count": 28,
   "metadata": {},
   "outputs": [
    {
     "data": {
      "text/plain": [
       "array([23.942347], dtype=float32)"
      ]
     },
     "execution_count": 28,
     "metadata": {},
     "output_type": "execute_result"
    }
   ],
   "source": [
    "sess.run(hx,{x:[40]})"
   ]
  },
  {
   "cell_type": "code",
   "execution_count": 29,
   "metadata": {},
   "outputs": [
    {
     "name": "stderr",
     "output_type": "stream",
     "text": [
      "C:\\anaconda\\lib\\site-packages\\matplotlib\\backends\\backend_agg.py:211: RuntimeWarning: Glyph 51204 missing from current font.\n",
      "  font.set_text(s, 0.0, flags=flags)\n",
      "C:\\anaconda\\lib\\site-packages\\matplotlib\\backends\\backend_agg.py:211: RuntimeWarning: Glyph 44592 missing from current font.\n",
      "  font.set_text(s, 0.0, flags=flags)\n",
      "C:\\anaconda\\lib\\site-packages\\matplotlib\\backends\\backend_agg.py:211: RuntimeWarning: Glyph 49373 missing from current font.\n",
      "  font.set_text(s, 0.0, flags=flags)\n",
      "C:\\anaconda\\lib\\site-packages\\matplotlib\\backends\\backend_agg.py:211: RuntimeWarning: Glyph 49328 missing from current font.\n",
      "  font.set_text(s, 0.0, flags=flags)\n",
      "C:\\anaconda\\lib\\site-packages\\matplotlib\\backends\\backend_agg.py:211: RuntimeWarning: Glyph 47049 missing from current font.\n",
      "  font.set_text(s, 0.0, flags=flags)\n",
      "C:\\anaconda\\lib\\site-packages\\matplotlib\\backends\\backend_agg.py:180: RuntimeWarning: Glyph 51204 missing from current font.\n",
      "  font.set_text(s, 0, flags=flags)\n",
      "C:\\anaconda\\lib\\site-packages\\matplotlib\\backends\\backend_agg.py:180: RuntimeWarning: Glyph 44592 missing from current font.\n",
      "  font.set_text(s, 0, flags=flags)\n",
      "C:\\anaconda\\lib\\site-packages\\matplotlib\\backends\\backend_agg.py:180: RuntimeWarning: Glyph 49373 missing from current font.\n",
      "  font.set_text(s, 0, flags=flags)\n",
      "C:\\anaconda\\lib\\site-packages\\matplotlib\\backends\\backend_agg.py:180: RuntimeWarning: Glyph 49328 missing from current font.\n",
      "  font.set_text(s, 0, flags=flags)\n",
      "C:\\anaconda\\lib\\site-packages\\matplotlib\\backends\\backend_agg.py:180: RuntimeWarning: Glyph 47049 missing from current font.\n",
      "  font.set_text(s, 0, flags=flags)\n",
      "C:\\anaconda\\lib\\site-packages\\matplotlib\\backends\\backend_agg.py:211: RuntimeWarning: Glyph 49324 missing from current font.\n",
      "  font.set_text(s, 0.0, flags=flags)\n",
      "C:\\anaconda\\lib\\site-packages\\matplotlib\\backends\\backend_agg.py:211: RuntimeWarning: Glyph 50857 missing from current font.\n",
      "  font.set_text(s, 0.0, flags=flags)\n",
      "C:\\anaconda\\lib\\site-packages\\matplotlib\\backends\\backend_agg.py:180: RuntimeWarning: Glyph 49324 missing from current font.\n",
      "  font.set_text(s, 0, flags=flags)\n",
      "C:\\anaconda\\lib\\site-packages\\matplotlib\\backends\\backend_agg.py:180: RuntimeWarning: Glyph 50857 missing from current font.\n",
      "  font.set_text(s, 0, flags=flags)\n"
     ]
    },
    {
     "data": {
      "image/png": "[encoded data removed]",
      "text/plain": [
       "<Figure size 432x288 with 1 Axes>"
      ]
     },
     "metadata": {
      "needs_background": "light"
     },
     "output_type": "display_data"
    }
   ],
   "source": [
    "# plt.plot(hist)\n",
    "# plt.show()\n",
    "plt.xlabel('전기생산량')\n",
    "plt.ylabel('전기사용량')\n",
    "plt.scatter(df['전기생산량'], df['전기사용량'])\n",
    "plt.plot( df['전기생산량'], sess.run(hx, {x:df['전기생산량']}),'r--')\n",
    "plt.show()"
   ]
  },
  {
   "cell_type": "code",
   "execution_count": null,
   "metadata": {},
   "outputs": [],
   "source": []
  },
  {
   "cell_type": "code",
   "execution_count": null,
   "metadata": {},
   "outputs": [],
   "source": []
  },
  {
   "cell_type": "code",
   "execution_count": null,
   "metadata": {},
   "outputs": [],
   "source": []
  },
  {
   "cell_type": "code",
   "execution_count": null,
   "metadata": {},
   "outputs": [],
   "source": []
  }
 ],
 "metadata": {
  "kernelspec": {
   "display_name": "Python 3",
   "language": "python",
   "name": "python3"
  },
  "language_info": {
   "codemirror_mode": {
    "name": "ipython",
    "version": 3
   },
   "file_extension": ".py",
   "mimetype": "text/x-python",
   "name": "python",
   "nbconvert_exporter": "python",
   "pygments_lexer": "ipython3",
   "version": "3.7.6"
  }
 },
 "nbformat": 4,
 "nbformat_minor": 4
}
