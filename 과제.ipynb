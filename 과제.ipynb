{
 "cells": [
  {
   "cell_type": "code",
   "execution_count": 1,
   "metadata": {},
   "outputs": [],
   "source": [
    "from tensorflow.keras.datasets.fashion_mnist import load_data\n",
    "import tensorflow as tf\n",
    "import numpy as np\n",
    "import pandas as pd\n",
    "from sklearn import datasets\n",
    "import matplotlib.pyplot as plt\n",
    "from tensorflow.keras.layers import Dense\n",
    "from tensorflow.keras import Sequential\n",
    "from tensorflow.keras.optimizers import Adam\n",
    "from tensorflow.keras.backend import one_hot"
   ]
  },
  {
   "cell_type": "code",
   "execution_count": 2,
   "metadata": {},
   "outputs": [],
   "source": [
    "ass_names=['T-shirt/top','Trouser','Pullover','Dress','Coat','Sandal','Shirt','Sneaker','Bag','Ankle boot']"
   ]
  },
  {
   "cell_type": "code",
   "execution_count": 3,
   "metadata": {},
   "outputs": [],
   "source": [
    "(train_images,train_labels),(test_images,test_labels) = load_data()"
   ]
  },
  {
   "cell_type": "code",
   "execution_count": 4,
   "metadata": {},
   "outputs": [],
   "source": [
    "train_labels = one_hot(train_labels,10)\n",
    "test_labels = one_hot(test_labels,10)"
   ]
  },
  {
   "cell_type": "code",
   "execution_count": 5,
   "metadata": {},
   "outputs": [],
   "source": [
    "sess = tf.Session()\n",
    "train_labels = sess.run(train_labels)\n",
    "test_labels = sess.run(test_labels)"
   ]
  },
  {
   "cell_type": "code",
   "execution_count": 6,
   "metadata": {},
   "outputs": [
    {
     "data": {
      "text/plain": [
       "(60000, 28, 28)"
      ]
     },
     "execution_count": 6,
     "metadata": {},
     "output_type": "execute_result"
    }
   ],
   "source": [
    "train_images.shape"
   ]
  },
  {
   "cell_type": "code",
   "execution_count": 7,
   "metadata": {},
   "outputs": [
    {
     "data": {
      "text/plain": [
       "(60000, 10)"
      ]
     },
     "execution_count": 7,
     "metadata": {},
     "output_type": "execute_result"
    }
   ],
   "source": [
    "train_labels.shape"
   ]
  },
  {
   "cell_type": "code",
   "execution_count": 8,
   "metadata": {},
   "outputs": [
    {
     "data": {
      "text/plain": [
       "(10000, 28, 28)"
      ]
     },
     "execution_count": 8,
     "metadata": {},
     "output_type": "execute_result"
    }
   ],
   "source": [
    "test_images.shape"
   ]
  },
  {
   "cell_type": "code",
   "execution_count": 9,
   "metadata": {},
   "outputs": [
    {
     "data": {
      "text/plain": [
       "(10000, 10)"
      ]
     },
     "execution_count": 9,
     "metadata": {},
     "output_type": "execute_result"
    }
   ],
   "source": [
    "test_labels.shape"
   ]
  },
  {
   "cell_type": "code",
   "execution_count": 10,
   "metadata": {},
   "outputs": [],
   "source": [
    "x_train = train_images\n",
    "y_train = train_labels \n",
    "x_test = test_images\n",
    "y_test  = test_labels"
   ]
  },
  {
   "cell_type": "code",
   "execution_count": 11,
   "metadata": {},
   "outputs": [],
   "source": [
    "x_train = train_images.reshape(-1,28*28)"
   ]
  },
  {
   "cell_type": "code",
   "execution_count": 12,
   "metadata": {},
   "outputs": [],
   "source": [
    "x_test = test_images.reshape(-1,28*28)"
   ]
  },
  {
   "cell_type": "code",
   "execution_count": 13,
   "metadata": {},
   "outputs": [
    {
     "data": {
      "text/plain": [
       "(60000, 784)"
      ]
     },
     "execution_count": 13,
     "metadata": {},
     "output_type": "execute_result"
    }
   ],
   "source": [
    "x_train.shape"
   ]
  },
  {
   "cell_type": "code",
   "execution_count": 14,
   "metadata": {},
   "outputs": [
    {
     "data": {
      "text/plain": [
       "(10000, 10)"
      ]
     },
     "execution_count": 14,
     "metadata": {},
     "output_type": "execute_result"
    }
   ],
   "source": [
    "y_test.shape"
   ]
  },
  {
   "cell_type": "code",
   "execution_count": 15,
   "metadata": {},
   "outputs": [],
   "source": [
    "x = tf.placeholder(tf.float32,[None,784])\n",
    "y = tf.constant(y_train, tf.float32)"
   ]
  },
  {
   "cell_type": "code",
   "execution_count": 16,
   "metadata": {},
   "outputs": [
    {
     "name": "stdout",
     "output_type": "stream",
     "text": [
      "WARNING:tensorflow:\n",
      "The TensorFlow contrib module will not be included in TensorFlow 2.0.\n",
      "For more information, please see:\n",
      "  * https://github.com/tensorflow/community/blob/master/rfcs/20180907-contrib-sunset.md\n",
      "  * https://github.com/tensorflow/addons\n",
      "  * https://github.com/tensorflow/io (for I/O related ops)\n",
      "If you depend on functionality not listed there, please file an issue.\n",
      "\n"
     ]
    }
   ],
   "source": [
    "w1 = tf.get_variable( 'w1',[784,900], initializer=tf.contrib.layers.xavier_initializer()) \n",
    "b1 = tf.get_variable( 'b1',[900], initializer=tf.contrib.layers.xavier_initializer())\n",
    "w2 = tf.get_variable( 'w2',[900,10], initializer=tf.contrib.layers.xavier_initializer())\n",
    "b2 = tf.get_variable( 'b2',[10], initializer=tf.contrib.layers.xavier_initializer())"
   ]
  },
  {
   "cell_type": "code",
   "execution_count": 17,
   "metadata": {},
   "outputs": [],
   "source": [
    "z1 = tf.matmul(x,w1)+b1\n",
    "lay1 = tf.nn.softmax(z1)\n",
    "z2 = tf.matmul(lay1,w2)+b2\n",
    "hx = tf.nn.softmax(z2)"
   ]
  },
  {
   "cell_type": "code",
   "execution_count": 18,
   "metadata": {},
   "outputs": [
    {
     "name": "stdout",
     "output_type": "stream",
     "text": [
      "WARNING:tensorflow:From <ipython-input-18-51b38eb5a0ce>:1: softmax_cross_entropy_with_logits (from tensorflow.python.ops.nn_ops) is deprecated and will be removed in a future version.\n",
      "Instructions for updating:\n",
      "\n",
      "Future major versions of TensorFlow will allow gradients to flow\n",
      "into the labels input on backprop by default.\n",
      "\n",
      "See `tf.nn.softmax_cross_entropy_with_logits_v2`.\n",
      "\n"
     ]
    }
   ],
   "source": [
    "cost_i=tf.nn.softmax_cross_entropy_with_logits(logits=z2,labels=y)\n",
    "cost = tf.reduce_mean( cost_i )"
   ]
  },
  {
   "cell_type": "code",
   "execution_count": 19,
   "metadata": {},
   "outputs": [],
   "source": [
    "optimizer = tf.train.AdamOptimizer(0.1) #learning rate\n",
    "train = optimizer.minimize(cost)\n",
    "sess = tf.Session()\n",
    "init = tf.global_variables_initializer()\n",
    "sess.run(init)"
   ]
  },
  {
   "cell_type": "code",
   "execution_count": 20,
   "metadata": {},
   "outputs": [
    {
     "name": "stdout",
     "output_type": "stream",
     "text": [
      "0 2.2330909\n",
      "1 2.1514318\n",
      "2 2.1057494\n",
      "3 2.0903027\n",
      "4 2.0657592\n",
      "5 2.003441\n",
      "6 1.8378171\n",
      "7 1.806813\n",
      "8 1.6674846\n",
      "9 1.5873214\n",
      "10 1.486136\n",
      "11 1.4279896\n",
      "12 1.3427323\n",
      "13 1.2891607\n",
      "14 1.2696795\n",
      "15 1.1820841\n",
      "16 1.1396698\n",
      "17 1.0939533\n",
      "18 1.0461074\n",
      "19 1.0061703\n",
      "20 1.0252901\n",
      "21 0.9975697\n",
      "22 0.99871665\n",
      "23 0.9398017\n",
      "24 0.927053\n",
      "25 0.9525389\n",
      "26 0.9179037\n",
      "27 0.90297306\n",
      "28 0.9265363\n",
      "29 0.9285327\n",
      "30 0.911327\n",
      "31 0.8747815\n",
      "32 0.8590634\n",
      "33 0.8576382\n",
      "34 0.88759637\n",
      "35 0.91735744\n",
      "36 0.87612617\n",
      "37 0.8342428\n",
      "38 0.83304244\n",
      "39 0.86203194\n",
      "40 0.9075725\n",
      "41 0.9372889\n",
      "42 0.9236599\n",
      "43 0.9257243\n",
      "44 0.8898343\n",
      "45 0.8723159\n",
      "46 0.8977866\n",
      "47 0.93104094\n",
      "48 0.9592836\n",
      "49 1.0031507\n",
      "50 1.0005876\n",
      "51 0.9530507\n",
      "52 0.9417314\n",
      "53 0.9167721\n",
      "54 0.8959838\n",
      "55 0.8570818\n",
      "56 0.8552382\n",
      "57 0.8782647\n",
      "58 0.8948949\n",
      "59 0.8828409\n",
      "60 0.87718284\n",
      "61 0.8747751\n",
      "62 0.8901772\n",
      "63 0.93120116\n",
      "64 0.9305255\n",
      "65 0.8952165\n",
      "66 0.85803664\n",
      "67 0.8584394\n",
      "68 0.8798647\n",
      "69 0.9150594\n",
      "70 0.95453686\n",
      "71 0.9649211\n",
      "72 0.95865405\n",
      "73 0.9531782\n",
      "74 0.9734697\n",
      "75 0.9442206\n",
      "76 0.9399247\n",
      "77 0.95168227\n",
      "78 1.0435609\n",
      "79 1.0042706\n",
      "80 1.0034443\n",
      "81 0.9741866\n",
      "82 0.95260894\n",
      "83 0.9392742\n",
      "84 0.9287697\n",
      "85 0.90219843\n",
      "86 0.891303\n",
      "87 0.87554556\n",
      "88 0.87264585\n",
      "89 0.8731574\n",
      "90 0.8746515\n",
      "91 0.8769875\n",
      "92 0.860812\n",
      "93 0.8516564\n",
      "94 0.85766196\n",
      "95 0.8682029\n",
      "96 0.8735469\n",
      "97 0.86958224\n",
      "98 0.8638435\n",
      "99 0.8638088\n",
      "100 0.86221015\n",
      "101 0.8518244\n",
      "102 0.8458323\n",
      "103 0.8446883\n",
      "104 0.84523124\n",
      "105 0.84569466\n",
      "106 0.8444078\n",
      "107 0.8531728\n",
      "108 1.0577323\n",
      "109 0.93102616\n",
      "110 0.84484625\n",
      "111 0.846088\n",
      "112 0.85029554\n",
      "113 0.8415939\n",
      "114 0.82989097\n",
      "115 0.80855733\n",
      "116 0.79534554\n",
      "117 0.8056037\n",
      "118 0.8271653\n",
      "119 0.8544612\n",
      "120 0.8824788\n",
      "121 0.90671384\n",
      "122 0.9134239\n",
      "123 0.88399374\n",
      "124 0.8651425\n",
      "125 0.8445435\n",
      "126 0.828878\n",
      "127 0.8209364\n",
      "128 0.82354134\n",
      "129 0.8386211\n",
      "130 0.8562366\n",
      "131 0.87278336\n",
      "132 0.8890597\n",
      "133 0.8740409\n",
      "134 0.8653169\n",
      "135 0.8546385\n",
      "136 0.8402917\n",
      "137 0.84390223\n",
      "138 0.85444796\n",
      "139 0.867441\n",
      "140 0.8801351\n",
      "141 0.86236835\n",
      "142 0.85105586\n",
      "143 0.84421337\n",
      "144 0.8386451\n",
      "145 0.8333191\n",
      "146 0.83540124\n",
      "147 0.841919\n",
      "148 0.8362206\n",
      "149 0.8272564\n",
      "150 0.82127136\n",
      "151 0.81467175\n",
      "152 0.81762946\n",
      "153 0.8174401\n",
      "154 0.81495386\n",
      "155 0.81725866\n",
      "156 0.82081157\n",
      "157 0.8243466\n",
      "158 0.8291276\n",
      "159 0.8269796\n",
      "160 0.8253512\n",
      "161 0.8366874\n",
      "162 0.85326797\n",
      "163 0.86438435\n",
      "164 0.8580645\n",
      "165 0.85093087\n",
      "166 0.84300184\n",
      "167 0.8363352\n",
      "168 0.8343405\n",
      "169 0.8419952\n",
      "170 0.8574559\n",
      "171 0.86138344\n",
      "172 0.8349687\n",
      "173 0.8221931\n",
      "174 0.84891444\n",
      "175 0.8293753\n",
      "176 0.82607025\n",
      "177 0.8247362\n",
      "178 0.8251012\n",
      "179 0.8241391\n",
      "180 0.8201958\n",
      "181 0.8210043\n",
      "182 0.82301474\n",
      "183 0.8285935\n",
      "184 0.8299665\n",
      "185 0.83390796\n",
      "186 0.8411987\n",
      "187 0.847319\n",
      "188 0.84175664\n",
      "189 0.83663934\n",
      "190 0.81974036\n",
      "191 0.8164646\n",
      "192 0.8269039\n",
      "193 0.8337493\n",
      "194 0.8400702\n",
      "195 0.83746827\n",
      "196 0.83068496\n",
      "197 0.8295143\n",
      "198 0.825572\n",
      "199 0.82051814\n",
      "200 0.8211954\n",
      "201 0.8166797\n",
      "202 0.8179819\n",
      "203 0.81848294\n",
      "204 0.80728996\n",
      "205 0.79307646\n",
      "206 0.78545994\n",
      "207 0.78074646\n",
      "208 0.78594464\n",
      "209 0.801753\n",
      "210 0.8242862\n",
      "211 0.82242304\n",
      "212 0.8055713\n",
      "213 0.791309\n",
      "214 0.7815819\n",
      "215 0.78002924\n",
      "216 0.7750543\n",
      "217 0.77213436\n",
      "218 0.7749395\n",
      "219 0.78645545\n",
      "220 0.80416435\n",
      "221 0.81139725\n",
      "222 0.81694406\n",
      "223 0.8138503\n",
      "224 0.80221653\n",
      "225 0.79425913\n",
      "226 0.7941306\n",
      "227 0.7909242\n",
      "228 0.7894972\n",
      "229 0.7874465\n",
      "230 0.7854214\n",
      "231 0.7874701\n",
      "232 0.7912217\n",
      "233 0.79028517\n",
      "234 0.7877974\n",
      "235 0.77774936\n",
      "236 0.75941366\n",
      "237 0.75480753\n",
      "238 0.75624764\n",
      "239 0.758386\n",
      "240 0.75888765\n",
      "241 0.7599478\n",
      "242 0.76209646\n",
      "243 0.7721172\n",
      "244 0.86530906\n",
      "245 0.80094784\n",
      "246 0.7605959\n",
      "247 0.765406\n",
      "248 0.7730432\n",
      "249 0.7749077\n",
      "250 0.77873224\n",
      "251 0.7820935\n",
      "252 0.78493375\n",
      "253 0.7869201\n",
      "254 0.7806264\n",
      "255 0.77629936\n",
      "256 0.7747012\n",
      "257 0.778879\n",
      "258 0.7763428\n",
      "259 0.7779595\n",
      "260 0.7770069\n",
      "261 0.77473694\n",
      "262 0.77254\n",
      "263 0.768934\n",
      "264 0.7669587\n",
      "265 0.7684325\n",
      "266 0.76880366\n",
      "267 0.76965594\n",
      "268 0.7696971\n",
      "269 0.76968634\n",
      "270 0.76916474\n",
      "271 0.769578\n",
      "272 0.7682004\n",
      "273 0.76640624\n",
      "274 0.76507056\n",
      "275 0.7651894\n",
      "276 0.7636181\n",
      "277 0.76469415\n",
      "278 0.76723963\n",
      "279 0.76861596\n",
      "280 0.7711508\n",
      "281 0.7721316\n",
      "282 0.7739538\n",
      "283 0.77096057\n",
      "284 0.7731561\n",
      "285 0.77058387\n",
      "286 0.778633\n",
      "287 0.7902064\n",
      "288 0.79348546\n",
      "289 0.80185825\n",
      "290 0.80681187\n",
      "291 0.8120624\n",
      "292 0.81098515\n",
      "293 0.8049488\n",
      "294 0.80167955\n",
      "295 0.7993042\n",
      "296 0.7993216\n",
      "297 0.8005158\n",
      "298 0.80124843\n",
      "299 0.8063579\n",
      "300 0.8072074\n",
      "301 0.80778956\n",
      "302 0.8074819\n",
      "303 0.79933554\n",
      "304 0.7736057\n",
      "305 0.75693536\n",
      "306 0.74693215\n",
      "307 0.7438383\n",
      "308 0.7475508\n",
      "309 0.7523489\n",
      "310 0.7586579\n",
      "311 0.7638168\n",
      "312 0.77049387\n",
      "313 0.77040887\n",
      "314 0.77328855\n",
      "315 0.7741585\n",
      "316 0.76599467\n",
      "317 0.7625034\n",
      "318 0.7662974\n",
      "319 0.76832736\n",
      "320 0.766692\n",
      "321 0.7670882\n",
      "322 0.7633198\n",
      "323 0.76250184\n",
      "324 0.76199234\n",
      "325 0.7629212\n",
      "326 0.7643314\n",
      "327 0.76569086\n",
      "328 0.75957435\n",
      "329 0.7555665\n",
      "330 0.7532383\n",
      "331 0.7479479\n",
      "332 0.74927825\n",
      "333 0.7486295\n",
      "334 0.7465164\n",
      "335 0.7467866\n",
      "336 0.74795717\n",
      "337 0.7465746\n",
      "338 0.7453789\n",
      "339 0.7432253\n",
      "340 0.7396578\n",
      "341 0.7402846\n",
      "342 0.7415102\n",
      "343 0.7403082\n",
      "344 0.74121106\n",
      "345 0.7433892\n",
      "346 0.74357456\n",
      "347 0.74363285\n",
      "348 0.74232846\n",
      "349 0.7416105\n",
      "350 0.74063855\n",
      "351 0.73804086\n",
      "352 0.7375818\n",
      "353 0.7396222\n",
      "354 0.7416506\n",
      "355 0.74256724\n",
      "356 0.74759465\n",
      "357 0.74751043\n",
      "358 0.74678695\n",
      "359 0.74335927\n",
      "360 0.74194735\n",
      "361 0.7425175\n",
      "362 0.74573183\n",
      "363 0.7454504\n",
      "364 0.745923\n",
      "365 0.75120735\n",
      "366 0.75389034\n",
      "367 0.7567873\n",
      "368 0.7574858\n",
      "369 0.76271784\n",
      "370 0.76528513\n",
      "371 0.7649806\n",
      "372 0.7675059\n",
      "373 0.76682824\n",
      "374 0.7690338\n",
      "375 0.7732076\n",
      "376 0.7778261\n",
      "377 0.7730499\n",
      "378 0.7686985\n",
      "379 0.7674305\n",
      "380 0.77336156\n",
      "381 0.78108466\n",
      "382 0.7899493\n",
      "383 0.7954617\n",
      "384 0.79654807\n",
      "385 0.78927606\n",
      "386 0.79433125\n",
      "387 0.82270783\n",
      "388 0.8510397\n",
      "389 0.8637132\n",
      "390 0.87930703\n",
      "391 0.86272097\n",
      "392 0.84930336\n",
      "393 0.83427423\n",
      "394 0.823352\n",
      "395 0.81317335\n",
      "396 0.80446965\n",
      "397 0.7981046\n",
      "398 0.79706734\n",
      "399 0.79577714\n",
      "400 0.7860524\n",
      "401 0.78087133\n",
      "402 0.7756266\n",
      "403 0.77256566\n",
      "404 0.7622388\n",
      "405 0.7644241\n",
      "406 0.7739948\n",
      "407 0.77326\n",
      "408 0.7815983\n",
      "409 0.789151\n",
      "410 0.7825956\n",
      "411 0.7614111\n",
      "412 0.75427645\n",
      "413 0.7578602\n",
      "414 0.7636909\n",
      "415 0.7728609\n",
      "416 0.7803766\n",
      "417 0.7916677\n",
      "418 0.7944458\n",
      "419 0.79469883\n",
      "420 0.7965347\n",
      "421 0.8103854\n",
      "422 0.8380678\n",
      "423 0.87384427\n",
      "424 0.8921619\n",
      "425 0.8655715\n",
      "426 0.85476273\n",
      "427 0.84109414\n",
      "428 0.8347547\n",
      "429 0.8247089\n",
      "430 0.820408\n",
      "431 0.8163689\n",
      "432 0.81233084\n",
      "433 0.8097051\n",
      "434 0.80439043\n",
      "435 0.80265164\n",
      "436 0.8010677\n",
      "437 0.80617136\n",
      "438 0.8095499\n",
      "439 0.8270349\n",
      "440 0.83010894\n",
      "441 0.8322027\n",
      "442 0.8226403\n",
      "443 0.8201012\n",
      "444 0.81809986\n",
      "445 0.8107591\n",
      "446 0.806462\n",
      "447 0.8003772\n",
      "448 0.79337776\n",
      "449 0.78918374\n",
      "450 0.79002064\n",
      "451 0.79244417\n",
      "452 0.7787133\n",
      "453 0.7738684\n",
      "454 0.771553\n",
      "455 0.7666342\n",
      "456 0.76414317\n",
      "457 0.7643162\n",
      "458 0.767972\n",
      "459 0.77150524\n",
      "460 0.7678611\n",
      "461 0.76392215\n",
      "462 0.7630144\n",
      "463 0.76046443\n",
      "464 0.761203\n",
      "465 0.7640967\n",
      "466 0.7704728\n",
      "467 0.7731805\n",
      "468 0.76598114\n",
      "469 0.759187\n",
      "470 0.75541615\n",
      "471 0.7534446\n",
      "472 0.74967164\n",
      "473 0.7424413\n",
      "474 0.7399607\n",
      "475 0.74241215\n",
      "476 0.745898\n",
      "477 0.7493199\n",
      "478 0.7518672\n",
      "479 0.7534856\n",
      "480 0.7550403\n",
      "481 0.7547344\n",
      "482 0.75497586\n",
      "483 0.7573219\n",
      "484 0.7568073\n",
      "485 0.7540627\n",
      "486 0.7587297\n",
      "487 0.7686025\n",
      "488 0.777693\n",
      "489 0.7808304\n",
      "490 0.78120947\n",
      "491 0.77073926\n",
      "492 0.7667904\n",
      "493 0.7688565\n",
      "494 0.7710912\n",
      "495 0.7705885\n",
      "496 0.7699372\n",
      "497 0.76814324\n",
      "498 0.7668095\n",
      "499 0.7669014\n"
     ]
    }
   ],
   "source": [
    "for i in range(500):\n",
    "    sess.run(train,{x:x_train})\n",
    "    print(i,sess.run(cost, {x:x_train}))"
   ]
  },
  {
   "cell_type": "code",
   "execution_count": 21,
   "metadata": {},
   "outputs": [
    {
     "data": {
      "image/png": "[encoded data removed]",
      "text/plain": [
       "<Figure size 432x288 with 1 Axes>"
      ]
     },
     "metadata": {
      "needs_background": "light"
     },
     "output_type": "display_data"
    }
   ],
   "source": [
    "plt.imshow( x_test[0].reshape(28,28))\n",
    "plt.show()"
   ]
  },
  {
   "cell_type": "code",
   "execution_count": 27,
   "metadata": {},
   "outputs": [
    {
     "data": {
      "text/plain": [
       "array([[2.9397380e-04, 2.3162369e-04, 1.7423768e-04, 2.6841517e-04,\n",
       "        2.3419425e-04, 1.7457417e-01, 3.1807434e-04, 4.6313081e-02,\n",
       "        5.8302598e-04, 7.7700925e-01]], dtype=float32)"
      ]
     },
     "execution_count": 27,
     "metadata": {},
     "output_type": "execute_result"
    }
   ],
   "source": [
    "sess.run(hx,{x:x_test[[0]]})"
   ]
  },
  {
   "cell_type": "code",
   "execution_count": 28,
   "metadata": {},
   "outputs": [
    {
     "data": {
      "text/plain": [
       "array([9], dtype=int64)"
      ]
     },
     "execution_count": 28,
     "metadata": {},
     "output_type": "execute_result"
    }
   ],
   "source": [
    "sess.run(hx,{x:x_test[[0]]}).argmax( axis=1)"
   ]
  },
  {
   "cell_type": "code",
   "execution_count": 29,
   "metadata": {},
   "outputs": [
    {
     "data": {
      "text/plain": [
       "0.1"
      ]
     },
     "execution_count": 29,
     "metadata": {},
     "output_type": "execute_result"
    }
   ],
   "source": [
    "aa = sess.run(hx,{x:x_test[[0]]})\n",
    "a = aa.argmax(axis=1)\n",
    "b = y_test.argmax(axis=1)\n",
    "(a==b).mean()"
   ]
  },
  {
   "cell_type": "code",
   "execution_count": 33,
   "metadata": {},
   "outputs": [
    {
     "data": {
      "text/plain": [
       "(10000,)"
      ]
     },
     "execution_count": 33,
     "metadata": {},
     "output_type": "execute_result"
    }
   ],
   "source": [
    "b.shape"
   ]
  },
  {
   "cell_type": "code",
   "execution_count": null,
   "metadata": {},
   "outputs": [],
   "source": []
  }
 ],
 "metadata": {
  "kernelspec": {
   "display_name": "Python 3",
   "language": "python",
   "name": "python3"
  },
  "language_info": {
   "codemirror_mode": {
    "name": "ipython",
    "version": 3
   },
   "file_extension": ".py",
   "mimetype": "text/x-python",
   "name": "python",
   "nbconvert_exporter": "python",
   "pygments_lexer": "ipython3",
   "version": "3.7.6"
  }
 },
 "nbformat": 4,
 "nbformat_minor": 4
}
